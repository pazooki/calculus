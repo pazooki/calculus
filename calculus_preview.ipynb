{
 "metadata": {
  "name": "calculus_preview"
 },
 "nbformat": 3,
 "nbformat_minor": 0,
 "worksheets": [
  {
   "cells": [
    {
     "cell_type": "markdown",
     "metadata": {},
     "source": [
      "#The Tangent Problem\n",
      "Find an equation of the tangent line _t_ to a curve with equation ${y = f(x)}$ at a given point _P_.\n",
      "\n",
      "We can find the equation of _t_ if we know its slope _m_. We need two points to compute the slope and we know only one point _P_ on _t_.\n",
      "\n",
      "$$m_{PQ} = \\frac{f(x)-f(a)}{x-a}$$\n"
     ]
    }
   ],
   "metadata": {}
  }
 ]
}