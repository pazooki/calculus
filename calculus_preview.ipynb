{
 "metadata": {
  "name": "calculus_preview"
 },
 "nbformat": 3,
 "nbformat_minor": 0,
 "worksheets": [
  {
   "cells": [
    {
     "cell_type": "markdown",
     "metadata": {},
     "source": [
      "#The Tangent Problem\n",
      "Find an equation of the tangent line _t_ to a curve with equation ${y = f(x)}$ at a given point _P_.\n",
      "\n",
      "We can find the equation of _t_ if we know its slope _m_. We need two points to compute the slope and we know only one point _P_ on _t_.\n",
      "\n",
      "$$m_{PQ} = \\frac{f(x)-f(a)}{x-a}$$"
     ]
    },
    {
     "cell_type": "code",
     "collapsed": false,
     "input": [
      "from pylab import *\n",
      "from scipy.misc import derivative\n",
      "x = linspace(-100,100,200)\n",
      "def f(x):\n",
      "    return x**2\n",
      "plot(x,f(x))\n",
      "plot(derivative(f,2))"
     ],
     "language": "python",
     "metadata": {},
     "outputs": [
      {
       "output_type": "pyout",
       "prompt_number": 8,
       "text": [
        "[<matplotlib.lines.Line2D at 0x10c0a1950>]"
       ]
      }
     ],
     "prompt_number": 8
    },
    {
     "cell_type": "code",
     "collapsed": false,
     "input": [],
     "language": "python",
     "metadata": {},
     "outputs": []
    }
   ],
   "metadata": {}
  }
 ]
}